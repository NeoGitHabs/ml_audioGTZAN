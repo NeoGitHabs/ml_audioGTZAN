{
  "nbformat": 4,
  "nbformat_minor": 0,
  "metadata": {
    "colab": {
      "provenance": [],
      "gpuType": "T4"
    },
    "kernelspec": {
      "name": "python3",
      "display_name": "Python 3"
    },
    "language_info": {
      "name": "python"
    },
    "accelerator": "GPU"
  },
  "cells": [
    {
      "cell_type": "code",
      "execution_count": null,
      "metadata": {
        "id": "yquE5fpV19w7"
      },
      "outputs": [],
      "source": [
        "import os\n",
        "import torch\n",
        "import zipfile\n",
        "import torch.nn as nn\n",
        "import torch.optim as optim\n",
        "import torch.nn.functional as F\n",
        "from torch.utils.data import DataLoader, Dataset, random_split\n",
        "from torchaudio import datasets, transforms, load"
      ]
    },
    {
      "cell_type": "code",
      "source": [
        "import kagglehub\n",
        "\n",
        "path = kagglehub.dataset_download(\"andradaolteanu/gtzan-dataset-music-genre-classification\")\n",
        "print(\"Path to dataset files:\", path)"
      ],
      "metadata": {
        "id": "UgtZNThpLBAn",
        "colab": {
          "base_uri": "https://localhost:8080/"
        },
        "outputId": "b865515d-de9f-4495-f66a-02dcaf152a12"
      },
      "execution_count": null,
      "outputs": [
        {
          "output_type": "stream",
          "name": "stdout",
          "text": [
            "Using Colab cache for faster access to the 'gtzan-dataset-music-genre-classification' dataset.\n",
            "Path to dataset files: /kaggle/input/gtzan-dataset-music-genre-classification\n"
          ]
        }
      ]
    },
    {
      "cell_type": "code",
      "source": [
        "root_path = '/kaggle/input/gtzan-dataset-music-genre-classification/Data/genres_original'"
      ],
      "metadata": {
        "id": "nMsRzCuRLLho"
      },
      "execution_count": null,
      "outputs": []
    },
    {
      "cell_type": "code",
      "source": [
        "genres = sorted(os.listdir(root_path))\n",
        "genres"
      ],
      "metadata": {
        "id": "Ts5CeQr92LP0",
        "colab": {
          "base_uri": "https://localhost:8080/"
        },
        "outputId": "b1c44162-4a43-46f0-d02a-36d483ba8f10"
      },
      "execution_count": null,
      "outputs": [
        {
          "output_type": "execute_result",
          "data": {
            "text/plain": [
              "['blues',\n",
              " 'classical',\n",
              " 'country',\n",
              " 'disco',\n",
              " 'hiphop',\n",
              " 'jazz',\n",
              " 'metal',\n",
              " 'pop',\n",
              " 'reggae',\n",
              " 'rock']"
            ]
          },
          "metadata": {},
          "execution_count": 7
        }
      ]
    },
    {
      "cell_type": "code",
      "source": [
        "len(genres)"
      ],
      "metadata": {
        "id": "6PqwP-Gs2LTH",
        "colab": {
          "base_uri": "https://localhost:8080/"
        },
        "outputId": "302451c3-d428-4d3e-b0ec-540c5a6b88c4"
      },
      "execution_count": null,
      "outputs": [
        {
          "output_type": "execute_result",
          "data": {
            "text/plain": [
              "10"
            ]
          },
          "metadata": {},
          "execution_count": 8
        }
      ]
    },
    {
      "cell_type": "code",
      "source": [
        "label_to_index = {label:ind for ind, label in enumerate(genres)}\n",
        "label_to_index"
      ],
      "metadata": {
        "id": "8LX8rMRh2LWe",
        "colab": {
          "base_uri": "https://localhost:8080/"
        },
        "outputId": "f91bce18-eb60-4c89-d769-8bc80fc171f2"
      },
      "execution_count": null,
      "outputs": [
        {
          "output_type": "execute_result",
          "data": {
            "text/plain": [
              "{'blues': 0,\n",
              " 'classical': 1,\n",
              " 'country': 2,\n",
              " 'disco': 3,\n",
              " 'hiphop': 4,\n",
              " 'jazz': 5,\n",
              " 'metal': 6,\n",
              " 'pop': 7,\n",
              " 'reggae': 8,\n",
              " 'rock': 9}"
            ]
          },
          "metadata": {},
          "execution_count": 9
        }
      ]
    },
    {
      "cell_type": "code",
      "source": [
        "transform = transforms.MelSpectrogram(\n",
        "     sample_rate = 22050,\n",
        "     n_mels = 64\n",
        " )"
      ],
      "metadata": {
        "id": "PMHGotFt2LZr"
      },
      "execution_count": null,
      "outputs": []
    },
    {
      "cell_type": "code",
      "source": [
        "max_len = 500"
      ],
      "metadata": {
        "id": "qyIsysKqQ9zK"
      },
      "execution_count": null,
      "outputs": []
    },
    {
      "cell_type": "code",
      "source": [
        "class TrainTestSplitter(Dataset):\n",
        "    def __init__(self, root_path, transform, max_len):\n",
        "        self.root_path = root_path\n",
        "        self.transform = transform\n",
        "        self.max_len = max_len\n",
        "        self.audios = []\n",
        "\n",
        "        for genre in os.listdir(root_path):\n",
        "            genre_path = os.path.join(root_path, genre)\n",
        "            for audio in os.listdir(genre_path):\n",
        "                if audio.endswith('.wav'):\n",
        "                    audio_path = os.path.join(genre_path, audio)\n",
        "                    try:\n",
        "                        info(audio_path)\n",
        "                        self.audios.append((audio_path, genre))\n",
        "                    except Exception as e:\n",
        "                        print(f'Ошибка при чтении файла \".wav\": {e}')\n",
        "\n",
        "    def __len__(self):\n",
        "        return len(self.audios)\n",
        "\n",
        "    def __getitem__(self, index):\n",
        "        audio_path, genre = self.audios[index]\n",
        "        waveform, sample_rate = load(audio_path)\n",
        "\n",
        "        if sample_rate != 22050:\n",
        "            resample = transforms.Resample(orig_freq=sample_rate, new_freq=22050)\n",
        "            waveform = resample(waveform)\n",
        "\n",
        "        input_spectrogram = self.transform(waveform).squeeze(0)\n",
        "\n",
        "        if input_spectrogram.shape[1] > self.max_len:\n",
        "            input_spectrogram = input_spectrogram[:, :self.max_len]\n",
        "        elif input_spectrogram.shape[1] < self.max_len:\n",
        "            pad_len = self.max_len - input_spectrogram.shape[1]\n",
        "            input_spectrogram = F.pad(input_spectrogram, (0, pad_len))\n",
        "\n",
        "        return input_spectrogram, label_to_index[genre]"
      ],
      "metadata": {
        "id": "d4Wjprw92Lct"
      },
      "execution_count": null,
      "outputs": []
    },
    {
      "cell_type": "code",
      "source": [
        "dataset = TrainTestSplitter(root_path, transform, max_len)\n",
        "train_size = int(len(dataset) * 0.8)\n",
        "test_size = len(dataset) - train_size\n",
        "\n",
        "train_data, test_data = random_split(dataset, [train_size, test_size], generator=torch.Generator().manual_seed(42))"
      ],
      "metadata": {
        "id": "oqncGog_2Lfr",
        "colab": {
          "base_uri": "https://localhost:8080/"
        },
        "outputId": "f7749395-0a14-4602-fa07-748bc8a63f09"
      },
      "execution_count": null,
      "outputs": [
        {
          "output_type": "stream",
          "name": "stderr",
          "text": [
            "/tmp/ipython-input-2340200979.py:14: UserWarning: torchaudio._backend.utils.info has been deprecated. This deprecation is part of a large refactoring effort to transition TorchAudio into a maintenance phase. The decoding and encoding capabilities of PyTorch for both audio and video are being consolidated into TorchCodec. Please see https://github.com/pytorch/audio/issues/3902 for more information. It will be removed from the 2.9 release. \n",
            "  info(audio_path)\n",
            "/usr/local/lib/python3.12/dist-packages/torchaudio/_backend/ffmpeg.py:20: UserWarning: torio.io._streaming_media_decoder.StreamingMediaDecoder has been deprecated. This deprecation is part of a large refactoring effort to transition TorchAudio into a maintenance phase. The decoding and encoding capabilities of PyTorch for both audio and video are being consolidated into TorchCodec. Please see https://github.com/pytorch/audio/issues/3902 for more information. It will be removed from the 2.9 release. \n",
            "  s = torchaudio.io.StreamReader(src, format, None, buffer_size)\n",
            "/usr/local/lib/python3.12/dist-packages/torchaudio/_backend/ffmpeg.py:27: UserWarning: torchaudio._backend.common.AudioMetaData has been deprecated. This deprecation is part of a large refactoring effort to transition TorchAudio into a maintenance phase. The decoding and encoding capabilities of PyTorch for both audio and video are being consolidated into TorchCodec. Please see https://github.com/pytorch/audio/issues/3902 for more information. It will be removed from the 2.9 release. \n",
            "  return AudioMetaData(\n"
          ]
        },
        {
          "output_type": "stream",
          "name": "stdout",
          "text": [
            "Ошибка при чтении файла \".wav\": Failed to open the input \"/kaggle/input/gtzan-dataset-music-genre-classification/Data/genres_original/jazz/jazz.00054.wav\" (Invalid data found when processing input).\n"
          ]
        }
      ]
    },
    {
      "cell_type": "code",
      "source": [
        "train = DataLoader(train_data, batch_size=32, shuffle=True)\n",
        "test = DataLoader(test_data, batch_size=32)"
      ],
      "metadata": {
        "id": "vDlKKPqm2Lij"
      },
      "execution_count": null,
      "outputs": []
    },
    {
      "cell_type": "code",
      "source": [
        "device = torch.device('cuda' if torch.cuda.is_available() else 'cpu')\n",
        "device"
      ],
      "metadata": {
        "id": "OtMH4P17Lh3G",
        "colab": {
          "base_uri": "https://localhost:8080/"
        },
        "outputId": "a561cd4d-14c5-479f-fe1d-5765e7f94683"
      },
      "execution_count": null,
      "outputs": [
        {
          "output_type": "execute_result",
          "data": {
            "text/plain": [
              "device(type='cuda')"
            ]
          },
          "metadata": {},
          "execution_count": 18
        }
      ]
    },
    {
      "cell_type": "code",
      "source": [
        "class CheckAudio(nn.Module):\n",
        "    def __init__(self):\n",
        "        super().__init__()\n",
        "        self.first = nn.Sequential(  # Input: (1, H, W)\n",
        "            nn.Conv2d(1, 16, kernel_size=3, padding=1),\n",
        "            nn.ReLU(),\n",
        "            nn.MaxPool2d(2),          # Output: (16, H/2, W/2)\n",
        "            nn.Conv2d(16, 64, kernel_size=3, padding=1),\n",
        "            nn.ReLU(),\n",
        "            nn.MaxPool2d(2),\n",
        "            nn.AdaptiveAvgPool2d((8, 8))\n",
        "        )\n",
        "        self.second = nn.Sequential(\n",
        "            nn.Flatten(),\n",
        "            nn.Linear(64 * 8 * 8, 128),\n",
        "            nn.ReLU(),\n",
        "            nn.Linear(128, 10)\n",
        "        )\n",
        "\n",
        "    def forward(self, audio):\n",
        "        audio = audio.unsqueeze(1)\n",
        "        audio = self.first(audio)\n",
        "        audio = self.second(audio)\n",
        "        return audio"
      ],
      "metadata": {
        "id": "2bPxhPTqLhz-"
      },
      "execution_count": null,
      "outputs": []
    },
    {
      "cell_type": "code",
      "source": [
        "model = CheckAudio().to(device)"
      ],
      "metadata": {
        "id": "AMKyDK9xLhxG"
      },
      "execution_count": null,
      "outputs": []
    },
    {
      "cell_type": "code",
      "source": [
        "loss_fn = nn.CrossEntropyLoss()\n",
        "optimizer = optim.Adam(model.parameters(), lr=0.001)"
      ],
      "metadata": {
        "id": "AZp4qX_vLhtt"
      },
      "execution_count": null,
      "outputs": []
    },
    {
      "cell_type": "code",
      "source": [
        "for epoch in range(50):\n",
        "    model.train()\n",
        "    total_loss = 0.0\n",
        "\n",
        "    for x_batch, y_batch in train:\n",
        "        x_batch, y_batch = x_batch.to(device), y_batch.to(device)\n",
        "\n",
        "        y_pred = model(x_batch)\n",
        "        loss = loss_fn(y_pred, y_batch)\n",
        "\n",
        "        optimizer.zero_grad()\n",
        "        loss.backward()\n",
        "        optimizer.step()\n",
        "\n",
        "        total_loss += loss.item()\n",
        "\n",
        "    print(f'Эпоха {epoch + 1}, Потери: {total_loss:.2f}')"
      ],
      "metadata": {
        "id": "89Z3tW9cLhqr",
        "colab": {
          "base_uri": "https://localhost:8080/"
        },
        "outputId": "0a048c28-c650-4045-8958-e12807ef53d8"
      },
      "execution_count": null,
      "outputs": [
        {
          "output_type": "stream",
          "name": "stdout",
          "text": [
            "Эпоха 1, Потери: 1.73\n",
            "Эпоха 2, Потери: 2.15\n",
            "Эпоха 3, Потери: 7.25\n",
            "Эпоха 4, Потери: 9.46\n",
            "Эпоха 5, Потери: 5.57\n",
            "Эпоха 6, Потери: 3.59\n",
            "Эпоха 7, Потери: 2.57\n",
            "Эпоха 8, Потери: 1.60\n",
            "Эпоха 9, Потери: 1.53\n",
            "Эпоха 10, Потери: 1.13\n",
            "Эпоха 11, Потери: 1.09\n",
            "Эпоха 12, Потери: 0.80\n",
            "Эпоха 13, Потери: 0.87\n",
            "Эпоха 14, Потери: 0.91\n",
            "Эпоха 15, Потери: 0.74\n",
            "Эпоха 16, Потери: 0.96\n",
            "Эпоха 17, Потери: 0.68\n",
            "Эпоха 18, Потери: 0.67\n",
            "Эпоха 19, Потери: 0.66\n",
            "Эпоха 20, Потери: 0.61\n",
            "Эпоха 21, Потери: 0.56\n",
            "Эпоха 22, Потери: 0.55\n",
            "Эпоха 23, Потери: 0.67\n",
            "Эпоха 24, Потери: 0.41\n",
            "Эпоха 25, Потери: 0.50\n",
            "Эпоха 26, Потери: 0.46\n",
            "Эпоха 27, Потери: 0.65\n",
            "Эпоха 28, Потери: 0.49\n",
            "Эпоха 29, Потери: 0.67\n",
            "Эпоха 30, Потери: 0.66\n",
            "Эпоха 31, Потери: 1.20\n",
            "Эпоха 32, Потери: 2.10\n",
            "Эпоха 33, Потери: 6.16\n",
            "Эпоха 34, Потери: 7.16\n",
            "Эпоха 35, Потери: 4.01\n",
            "Эпоха 36, Потери: 2.50\n",
            "Эпоха 37, Потери: 1.46\n",
            "Эпоха 38, Потери: 0.78\n",
            "Эпоха 39, Потери: 0.51\n",
            "Эпоха 40, Потери: 0.37\n",
            "Эпоха 41, Потери: 0.44\n",
            "Эпоха 42, Потери: 0.23\n",
            "Эпоха 43, Потери: 0.24\n",
            "Эпоха 44, Потери: 0.35\n",
            "Эпоха 45, Потери: 0.24\n",
            "Эпоха 46, Потери: 0.47\n",
            "Эпоха 47, Потери: 0.16\n",
            "Эпоха 48, Потери: 0.33\n",
            "Эпоха 49, Потери: 0.15\n",
            "Эпоха 50, Потери: 0.16\n"
          ]
        }
      ]
    },
    {
      "cell_type": "code",
      "source": [
        "model.eval()\n",
        "correct, total = 0, 0\n",
        "\n",
        "with torch.no_grad():\n",
        "    for x_batch, y_batch in test:  # предполагается, что test — это DataLoader\n",
        "        x_batch, y_batch = x_batch.to(device), y_batch.to(device)\n",
        "\n",
        "        y_pred = model(x_batch)\n",
        "        pred = torch.argmax(y_pred, dim=1)\n",
        "\n",
        "        correct += (pred == y_batch).sum().item()\n",
        "        total += y_batch.size(0)\n",
        "\n",
        "accuracy = correct * 100 / total\n",
        "print(f'Точность предположения модели: {accuracy:.2f}%')"
      ],
      "metadata": {
        "id": "ICTyovKTLhnx",
        "colab": {
          "base_uri": "https://localhost:8080/"
        },
        "outputId": "418a878f-231d-422a-ea63-b5c771cac0a1"
      },
      "execution_count": null,
      "outputs": [
        {
          "output_type": "stream",
          "name": "stdout",
          "text": [
            "Точность предположения модели: 57.50%\n"
          ]
        }
      ]
    },
    {
      "cell_type": "code",
      "source": [
        "torch.save(model.state_dict(), 'audio_model.pth')\n",
        "torch.save(genres, 'label.pth')"
      ],
      "metadata": {
        "id": "LI85uinbLhkK"
      },
      "execution_count": null,
      "outputs": []
    },
    {
      "cell_type": "code",
      "source": [
        "from google.colab import files\n",
        "files.download('audio_model.pth')\n",
        "files.download('label.pth')"
      ],
      "metadata": {
        "colab": {
          "base_uri": "https://localhost:8080/",
          "height": 17
        },
        "id": "IsXXSXW8uAvt",
        "outputId": "52329e95-ef44-410b-8d34-ea7ec867a94b"
      },
      "execution_count": null,
      "outputs": [
        {
          "output_type": "display_data",
          "data": {
            "text/plain": [
              "<IPython.core.display.Javascript object>"
            ],
            "application/javascript": [
              "\n",
              "    async function download(id, filename, size) {\n",
              "      if (!google.colab.kernel.accessAllowed) {\n",
              "        return;\n",
              "      }\n",
              "      const div = document.createElement('div');\n",
              "      const label = document.createElement('label');\n",
              "      label.textContent = `Downloading \"${filename}\": `;\n",
              "      div.appendChild(label);\n",
              "      const progress = document.createElement('progress');\n",
              "      progress.max = size;\n",
              "      div.appendChild(progress);\n",
              "      document.body.appendChild(div);\n",
              "\n",
              "      const buffers = [];\n",
              "      let downloaded = 0;\n",
              "\n",
              "      const channel = await google.colab.kernel.comms.open(id);\n",
              "      // Send a message to notify the kernel that we're ready.\n",
              "      channel.send({})\n",
              "\n",
              "      for await (const message of channel.messages) {\n",
              "        // Send a message to notify the kernel that we're ready.\n",
              "        channel.send({})\n",
              "        if (message.buffers) {\n",
              "          for (const buffer of message.buffers) {\n",
              "            buffers.push(buffer);\n",
              "            downloaded += buffer.byteLength;\n",
              "            progress.value = downloaded;\n",
              "          }\n",
              "        }\n",
              "      }\n",
              "      const blob = new Blob(buffers, {type: 'application/binary'});\n",
              "      const a = document.createElement('a');\n",
              "      a.href = window.URL.createObjectURL(blob);\n",
              "      a.download = filename;\n",
              "      div.appendChild(a);\n",
              "      a.click();\n",
              "      div.remove();\n",
              "    }\n",
              "  "
            ]
          },
          "metadata": {}
        },
        {
          "output_type": "display_data",
          "data": {
            "text/plain": [
              "<IPython.core.display.Javascript object>"
            ],
            "application/javascript": [
              "download(\"download_c1b89f8d-bfd3-4e6b-9f6e-4f25f30629a1\", \"audio_model.pth\", 2144453)"
            ]
          },
          "metadata": {}
        },
        {
          "output_type": "display_data",
          "data": {
            "text/plain": [
              "<IPython.core.display.Javascript object>"
            ],
            "application/javascript": [
              "\n",
              "    async function download(id, filename, size) {\n",
              "      if (!google.colab.kernel.accessAllowed) {\n",
              "        return;\n",
              "      }\n",
              "      const div = document.createElement('div');\n",
              "      const label = document.createElement('label');\n",
              "      label.textContent = `Downloading \"${filename}\": `;\n",
              "      div.appendChild(label);\n",
              "      const progress = document.createElement('progress');\n",
              "      progress.max = size;\n",
              "      div.appendChild(progress);\n",
              "      document.body.appendChild(div);\n",
              "\n",
              "      const buffers = [];\n",
              "      let downloaded = 0;\n",
              "\n",
              "      const channel = await google.colab.kernel.comms.open(id);\n",
              "      // Send a message to notify the kernel that we're ready.\n",
              "      channel.send({})\n",
              "\n",
              "      for await (const message of channel.messages) {\n",
              "        // Send a message to notify the kernel that we're ready.\n",
              "        channel.send({})\n",
              "        if (message.buffers) {\n",
              "          for (const buffer of message.buffers) {\n",
              "            buffers.push(buffer);\n",
              "            downloaded += buffer.byteLength;\n",
              "            progress.value = downloaded;\n",
              "          }\n",
              "        }\n",
              "      }\n",
              "      const blob = new Blob(buffers, {type: 'application/binary'});\n",
              "      const a = document.createElement('a');\n",
              "      a.href = window.URL.createObjectURL(blob);\n",
              "      a.download = filename;\n",
              "      div.appendChild(a);\n",
              "      a.click();\n",
              "      div.remove();\n",
              "    }\n",
              "  "
            ]
          },
          "metadata": {}
        },
        {
          "output_type": "display_data",
          "data": {
            "text/plain": [
              "<IPython.core.display.Javascript object>"
            ],
            "application/javascript": [
              "download(\"download_b756383c-d288-4e1a-a997-fe12bbe1f7a7\", \"label.pth\", 1377)"
            ]
          },
          "metadata": {}
        }
      ]
    }
  ]
}